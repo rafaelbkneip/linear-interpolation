{
  "nbformat": 4,
  "nbformat_minor": 0,
  "metadata": {
    "colab": {
      "provenance": [],
      "authorship_tag": "ABX9TyOLRIPR0UgvRKH/nlqKukqn",
      "include_colab_link": true
    },
    "kernelspec": {
      "name": "python3",
      "display_name": "Python 3"
    },
    "language_info": {
      "name": "python"
    }
  },
  "cells": [
    {
      "cell_type": "markdown",
      "metadata": {
        "id": "view-in-github",
        "colab_type": "text"
      },
      "source": [
        "<a href=\"https://colab.research.google.com/github/rafaelbkneip/linear-interpolation/blob/main/Linear_interpolation.ipynb\" target=\"_parent\"><img src=\"https://colab.research.google.com/assets/colab-badge.svg\" alt=\"Open In Colab\"/></a>"
      ]
    },
    {
      "cell_type": "code",
      "execution_count": null,
      "metadata": {
        "id": "81qROP6r6sov"
      },
      "outputs": [],
      "source": [
        "from scipy.optimize import fsolve\n",
        "import numpy as np\n",
        "\n",
        "#x values\n",
        "xii = np.array([x1,x2,x3,x4,x5,x6,x7])\n",
        "\n",
        "#y values\n",
        "yii = np.array([y1,y2,y3,y4,y5,y6,y7])\n",
        "\n",
        "#Third degree polynomial\n",
        "pol = np.polyfit(xii,yii,3)\n",
        "\n",
        "#Polynomial coefficients\n",
        "c3 = pol[0]\n",
        "c2 = pol[1]\n",
        "c1 = pol[2]\n",
        "c0 = pol[3]\n",
        "\n",
        "print(pol)"
      ]
    }
  ]
}